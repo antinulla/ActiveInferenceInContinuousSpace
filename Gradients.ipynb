{
 "cells": [
  {
   "cell_type": "code",
   "execution_count": 1,
   "metadata": {},
   "outputs": [],
   "source": [
    "import numpy as np\n",
    "import matplotlib.pyplot as plt\n",
    "import sympy as syp\n",
    "from sympy import Q\n",
    "from sympy.assumptions.refine import refine_sign\n",
    "syp.init_printing()"
   ]
  },
  {
   "cell_type": "markdown",
   "metadata": {},
   "source": [
    "# Deriving gradients for active inference in Continuous Time\n",
    "\n",
    "Case with:\n",
    "* one latent variable (the current belief about the angle position) \n",
    "* two observation dimensions (proprioceptive and visual)\n",
    "\n",
    "\n",
    "### Names\n",
    "\n",
    "\n",
    "* $\\boldsymbol{\\mu}$ - central value of the internal latent variable (belief about the generative process latent variable)   \n",
    "* $\\boldsymbol{\\mu'}$  -  increment of $\\mu$   * $\\boldsymbol{\\rho}$  - desired state of the generative process latent variable \n",
    "* $\\mathbf{a}$  -  action done by the agent   \n",
    "* $\\mathbf{s_{p}(a)}$ - proprioceptive observation (**as a function of the action**) \n",
    "* $\\mathbf{s_{v}(a)}$  - visual observation (**as a function of the action**)   \n",
    "* $\\mathbf{g(\\mu)}$ - Forward model that predicts the visual observations based on the latent variable. (In this case the proprioceptive observation is in the same domain as the latent variable, thus thre is no need of a forward model for it)\n",
    "* $\\mathbf{f(\\mu, \\rho)}$ - Model of the dynamics of the generative controlling the response to the agent's action. The model's dynamics is biased so that it has $\\rho$ as an attractor, so that the agent's belief leads to a real movement towards $\\rho$ "
   ]
  },
  {
   "cell_type": "code",
   "execution_count": 2,
   "metadata": {},
   "outputs": [],
   "source": [
    "x, C,a, mu, mu1, rho = syp.symbols(\"x C a mu mu^' rho\")\n",
    "sigma_sp, sigma_sv, sigma_mu = syp.symbols('Sigma_s_p Sigma_s_v Sigma_mu')\n",
    "\n",
    "g = syp.Function(\"g\")(mu)\n",
    "f = syp.Function(\"f\")(mu, rho)\n",
    "sp = syp.Function(\"s_p\")(a)\n",
    "sv = syp.Function(\"s_v\")(a)\n",
    "\n",
    "def normal(x, m, s): \n",
    "    return (1/(s*syp.sqrt(2*syp.pi)))*syp.exp(-((x - m)**2)/(2*s**2))"
   ]
  },
  {
   "cell_type": "markdown",
   "metadata": {},
   "source": [
    "### Variational Laplace Encoded Free Energy"
   ]
  },
  {
   "cell_type": "code",
   "execution_count": 3,
   "metadata": {},
   "outputs": [],
   "source": [
    "p_sp_mu = normal(sp, mu, sigma_sp)                                          \n",
    "p_sv_mu = normal(sv, g, sigma_sv)\n",
    "p_mu1_mu_rho = normal(mu1, f, sigma_mu)\n",
    "\n",
    "\n",
    "F = -syp.log(p_sp_mu*p_sv_mu*p_mu1_mu_rho) + C"
   ]
  },
  {
   "cell_type": "markdown",
   "metadata": {},
   "source": [
    "$P(s_p |\\mu)$:"
   ]
  },
  {
   "cell_type": "code",
   "execution_count": 4,
   "metadata": {},
   "outputs": [
    {
     "data": {
      "image/png": "[encoded data removed]",
      "text/latex": [
       "$\\displaystyle \\frac{\\sqrt{2} e^{- \\frac{\\left(- \\mu + \\operatorname{s_{p}}{\\left(a \\right)}\\right)^{2}}{2 \\Sigma_{s p}^{2}}}}{2 \\sqrt{\\pi} \\Sigma_{s p}}$"
      ],
      "text/plain": [
       "                 2 \n",
       "    -(-μ + sₚ(a))  \n",
       "    ───────────────\n",
       "              2    \n",
       "        2⋅Σₛ ₚ     \n",
       "√2⋅ℯ               \n",
       "───────────────────\n",
       "     2⋅√π⋅Σₛ ₚ     "
      ]
     },
     "execution_count": 4,
     "metadata": {},
     "output_type": "execute_result"
    }
   ],
   "source": [
    "p_sp_mu"
   ]
  },
  {
   "cell_type": "markdown",
   "metadata": {},
   "source": [
    "$P(s_v | g(\\mu))$:"
   ]
  },
  {
   "cell_type": "code",
   "execution_count": 5,
   "metadata": {},
   "outputs": [
    {
     "data": {
      "image/png": "[encoded data removed]",
      "text/latex": [
       "$\\displaystyle \\frac{\\sqrt{2} e^{- \\frac{\\left(- g{\\left(\\mu \\right)} + \\operatorname{s_{v}}{\\left(a \\right)}\\right)^{2}}{2 \\Sigma_{s v}^{2}}}}{2 \\sqrt{\\pi} \\Sigma_{s v}}$"
      ],
      "text/plain": [
       "                    2 \n",
       "    -(-g(μ) + sᵥ(a))  \n",
       "    ──────────────────\n",
       "               2      \n",
       "         2⋅Σₛ ᵥ       \n",
       "√2⋅ℯ                  \n",
       "──────────────────────\n",
       "      2⋅√π⋅Σₛ ᵥ       "
      ]
     },
     "execution_count": 5,
     "metadata": {},
     "output_type": "execute_result"
    }
   ],
   "source": [
    "p_sv_mu"
   ]
  },
  {
   "cell_type": "markdown",
   "metadata": {},
   "source": [
    "$P(\\mu'| \\mu, \\rho)$:"
   ]
  },
  {
   "cell_type": "code",
   "execution_count": 6,
   "metadata": {},
   "outputs": [
    {
     "data": {
      "image/png": "[encoded data removed]",
      "text/latex": [
       "$\\displaystyle \\frac{\\sqrt{2} e^{- \\frac{\\left(\\mu^{'} - f{\\left(\\mu,\\rho \\right)}\\right)^{2}}{2 \\Sigma_{\\mu}^{2}}}}{2 \\sqrt{\\pi} \\Sigma_{\\mu}}$"
      ],
      "text/plain": [
       "                     2 \n",
       "    -(μ__' - f(μ, ρ))  \n",
       "    ───────────────────\n",
       "                2      \n",
       "           2⋅Σₘᵤ       \n",
       "√2⋅ℯ                   \n",
       "───────────────────────\n",
       "        2⋅√π⋅Σₘᵤ       "
      ]
     },
     "execution_count": 6,
     "metadata": {},
     "output_type": "execute_result"
    }
   ],
   "source": [
    "p_mu1_mu_rho"
   ]
  },
  {
   "cell_type": "markdown",
   "metadata": {},
   "source": [
    "$F = -log(P(s_p |\\mu)P(s_v | g(\\mu))P(\\mu'| \\mu, \\rho)) + C$"
   ]
  },
  {
   "cell_type": "code",
   "execution_count": 7,
   "metadata": {},
   "outputs": [
    {
     "data": {
      "image/png": "[encoded data removed]",
      "text/latex": [
       "$\\displaystyle C - \\log{\\left(\\frac{\\sqrt{2} e^{- \\frac{\\left(\\mu^{'} - f{\\left(\\mu,\\rho \\right)}\\right)^{2}}{2 \\Sigma_{\\mu}^{2}}} e^{- \\frac{\\left(- \\mu + \\operatorname{s_{p}}{\\left(a \\right)}\\right)^{2}}{2 \\Sigma_{s p}^{2}}} e^{- \\frac{\\left(- g{\\left(\\mu \\right)} + \\operatorname{s_{v}}{\\left(a \\right)}\\right)^{2}}{2 \\Sigma_{s v}^{2}}}}{4 \\pi^{\\frac{3}{2}} \\Sigma_{\\mu} \\Sigma_{s p} \\Sigma_{s v}} \\right)}$"
      ],
      "text/plain": [
       "       ⎛                     2                2                   2 ⎞\n",
       "       ⎜    -(μ__' - f(μ, ρ))    -(-μ + sₚ(a))    -(-g(μ) + sᵥ(a))  ⎟\n",
       "       ⎜    ───────────────────  ───────────────  ──────────────────⎟\n",
       "       ⎜                2                  2                 2      ⎟\n",
       "       ⎜           2⋅Σₘᵤ             2⋅Σₛ ₚ            2⋅Σₛ ᵥ       ⎟\n",
       "       ⎜√2⋅ℯ                   ⋅ℯ               ⋅ℯ                  ⎟\n",
       "C - log⎜────────────────────────────────────────────────────────────⎟\n",
       "       ⎜                       3/2                                  ⎟\n",
       "       ⎝                    4⋅π   ⋅Σₘᵤ⋅Σₛ ₚ⋅Σₛ ᵥ                    ⎠"
      ]
     },
     "execution_count": 7,
     "metadata": {},
     "output_type": "execute_result"
    }
   ],
   "source": [
    "F"
   ]
  },
  {
   "cell_type": "markdown",
   "metadata": {},
   "source": [
    "### Gradients"
   ]
  },
  {
   "cell_type": "code",
   "execution_count": 8,
   "metadata": {},
   "outputs": [
    {
     "data": {
      "image/png": "[encoded data removed]",
      "text/latex": [
       "$\\displaystyle - \\frac{d}{d \\mu} F = - \\frac{\\left(g{\\left(\\mu \\right)} - \\operatorname{s_{v}}{\\left(a \\right)}\\right) \\frac{d}{d \\mu} g{\\left(\\mu \\right)}}{\\Sigma_{s v}^{2}} - \\frac{\\mu - \\operatorname{s_{p}}{\\left(a \\right)}}{\\Sigma_{s p}^{2}} - \\frac{\\left(- \\mu^{'} + f{\\left(\\mu,\\rho \\right)}\\right) \\frac{\\partial}{\\partial \\mu} f{\\left(\\mu,\\rho \\right)}}{\\Sigma_{\\mu}^{2}}$"
      ],
      "text/plain": [
       "                          d                                        ∂          \n",
       "           (g(μ) - sᵥ(a))⋅──(g(μ))               (-μ__' + f(μ, ρ))⋅──(f(μ, ρ))\n",
       " d                        dμ         μ - sₚ(a)                     ∂μ         \n",
       "-──(F) = - ─────────────────────── - ───────── - ─────────────────────────────\n",
       " dμ                     2                  2                     2            \n",
       "                    Σₛ ᵥ               Σₛ ₚ                   Σₘᵤ             "
      ]
     },
     "execution_count": 8,
     "metadata": {},
     "output_type": "execute_result"
    }
   ],
   "source": [
    "dmu = syp.diff(F, mu)\n",
    "dmu = syp.simplify(dmu)\n",
    "dmu = syp.collect(dmu, sigma_mu)\n",
    "dmu = syp.collect(dmu,syp.diff(f, mu))\n",
    "dmu = syp.collect(dmu, sigma_sv)\n",
    "dmu = syp.collect(dmu, sigma_sp)\n",
    "dmu = syp.collect(dmu,syp.diff(g, mu))\n",
    "syp.Eq(-syp.Derivative(\"F\", mu), -dmu)"
   ]
  },
  {
   "cell_type": "code",
   "execution_count": 9,
   "metadata": {},
   "outputs": [
    {
     "data": {
      "image/png": "[encoded data removed]",
      "text/latex": [
       "$\\displaystyle - \\frac{d}{d \\mu^{'}} F = - \\frac{\\mu^{'} - f{\\left(\\mu,\\rho \\right)}}{\\Sigma_{\\mu}^{2}}$"
      ],
      "text/plain": [
       "   d        -(μ__' - f(μ, ρ)) \n",
       "-─────(F) = ──────────────────\n",
       " dμ__'                2       \n",
       "                   Σₘᵤ        "
      ]
     },
     "execution_count": 9,
     "metadata": {},
     "output_type": "execute_result"
    }
   ],
   "source": [
    "dmu1 = syp.diff(F, mu1)\n",
    "dmu1 = syp.simplify(dmu1)\n",
    "-syp.simplify(dmu1)\n",
    "syp.Eq(-syp.Derivative(\"F\", mu1),-syp.simplify(dmu1))"
   ]
  },
  {
   "cell_type": "code",
   "execution_count": 20,
   "metadata": {},
   "outputs": [
    {
     "data": {
      "image/png": "[encoded data removed]",
      "text/latex": [
       "$\\displaystyle - \\frac{d}{d a} F = - \\frac{\\left(- g{\\left(\\mu \\right)} + \\operatorname{s_{v}}{\\left(a \\right)}\\right) \\frac{d}{d a} \\operatorname{s_{v}}{\\left(a \\right)}}{\\Sigma_{s v}^{2}} - \\frac{\\left(- \\mu + \\operatorname{s_{p}}{\\left(a \\right)}\\right) \\frac{d}{d a} \\operatorname{s_{p}}{\\left(a \\right)}}{\\Sigma_{s p}^{2}}$"
      ],
      "text/plain": [
       "                           d                        d        \n",
       "           (-g(μ) + sᵥ(a))⋅──(sᵥ(a))   (-μ + sₚ(a))⋅──(sₚ(a))\n",
       " d                         da                       da       \n",
       "-──(F) = - ───────────────────────── - ──────────────────────\n",
       " da                      2                         2         \n",
       "                     Σₛ ᵥ                      Σₛ ₚ          "
      ]
     },
     "execution_count": 20,
     "metadata": {},
     "output_type": "execute_result"
    }
   ],
   "source": [
    "da = syp.simplify(syp.diff(F, a))\n",
    "da = syp.collect(da, sigma_sp)\n",
    "da = syp.collect(da, syp.diff(sp, a))\n",
    "da = syp.collect(da, sigma_sv)\n",
    "da = syp.collect(da, syp.diff(sv, a))\n",
    "syp.Eq(-syp.Derivative(\"F\", a),-da)"
   ]
  },
  {
   "cell_type": "markdown",
   "metadata": {},
   "source": [
    "### World model dynamics\n",
    "\n",
    "The dynamics are those of an harmonic oscillator:"
   ]
  },
  {
   "cell_type": "code",
   "execution_count": 15,
   "metadata": {},
   "outputs": [
    {
     "data": {
      "image/png": "[encoded data removed]",
      "text/latex": [
       "$\\displaystyle - a + k \\mu_{change}{\\left(t \\right)} + \\phi \\frac{d}{d t} \\mu_{change}{\\left(t \\right)} + \\frac{d^{2}}{d t^{2}} \\mu_{change}{\\left(t \\right)}$"
      ],
      "text/plain": [
       "                                               2               \n",
       "                         d                    d                \n",
       "-a + k⋅\\mu_change(t) + φ⋅──(\\mu_change(t)) + ───(\\mu_change(t))\n",
       "                         dt                    2               \n",
       "                                             dt                "
      ]
     },
     "execution_count": 15,
     "metadata": {},
     "output_type": "execute_result"
    }
   ],
   "source": [
    "a, k, phi, z, t = syp.symbols(\"a k phi z t\")\n",
    "f = syp.Function(\"\\mu_change\")(t)\n",
    "fmu = f.diff(t,t) + k*f + phi*f.diff(t) - a\n",
    "fmu"
   ]
  },
  {
   "cell_type": "markdown",
   "metadata": {},
   "source": [
    "whose solution is an equation of type:"
   ]
  },
  {
   "cell_type": "code",
   "execution_count": 19,
   "metadata": {},
   "outputs": [
    {
     "data": {
      "image/png": "[encoded data removed]",
      "text/latex": [
       "$\\displaystyle \\mu_{change}{\\left(t \\right)} = C_{1} e^{\\frac{t \\left(- \\phi - \\sqrt{- 4 k + \\phi^{2}}\\right)}{2}} + C_{2} e^{\\frac{t \\left(- \\phi + \\sqrt{- 4 k + \\phi^{2}}\\right)}{2}} + \\frac{a}{k}$"
      ],
      "text/plain": [
       "                      ⎛        ___________⎞         ⎛        ___________⎞    \n",
       "                      ⎜       ╱         2 ⎟         ⎜       ╱         2 ⎟    \n",
       "                    t⋅⎝-φ - ╲╱  -4⋅k + φ  ⎠       t⋅⎝-φ + ╲╱  -4⋅k + φ  ⎠    \n",
       "                    ───────────────────────       ───────────────────────    \n",
       "                               2                             2              a\n",
       "\\mu_change(t) = C₁⋅ℯ                        + C₂⋅ℯ                        + ─\n",
       "                                                                            k"
      ]
     },
     "execution_count": 19,
     "metadata": {},
     "output_type": "execute_result"
    }
   ],
   "source": [
    "h = syp.dsolve(fmu, f)\n",
    "h"
   ]
  },
  {
   "cell_type": "markdown",
   "metadata": {},
   "source": [
    "Which is the analytic solution  for $\\mu_{change}$ given an\n",
    "action ($a$).\n",
    "\n",
    "The prediction about $s_p(a, t)$ is then:\n",
    "\n",
    "$s_p(a, t) = \\mu_{change}(a, t) + \\epsilon$ with $\\epsilon \\in \\mathcal{N}(0, \\Sigma_{s_p})$\n"
   ]
  },
  {
   "cell_type": "code",
   "execution_count": 32,
   "metadata": {},
   "outputs": [
    {
     "data": {
      "image/png": "[encoded data removed]",
      "text/latex": [
       "$\\displaystyle \\frac{d}{d a} \\operatorname{s_{p}}{\\left(a \\right)} = C_{1} e^{\\frac{t \\left(- \\phi - \\sqrt{- 4 k + \\phi^{2}}\\right)}{2}} + C_{2} e^{\\frac{t \\left(- \\phi + \\sqrt{- 4 k + \\phi^{2}}\\right)}{2}} + \\frac{a}{k} + \\epsilon$"
      ],
      "text/plain": [
       "                  ⎛        ___________⎞         ⎛        ___________⎞        \n",
       "                  ⎜       ╱         2 ⎟         ⎜       ╱         2 ⎟        \n",
       "                t⋅⎝-φ - ╲╱  -4⋅k + φ  ⎠       t⋅⎝-φ + ╲╱  -4⋅k + φ  ⎠        \n",
       "                ───────────────────────       ───────────────────────        \n",
       "d                          2                             2              a    \n",
       "──(sₚ(a)) = C₁⋅ℯ                        + C₂⋅ℯ                        + ─ + ε\n",
       "da                                                                      k    "
      ]
     },
     "execution_count": 32,
     "metadata": {},
     "output_type": "execute_result"
    }
   ],
   "source": [
    "eps = syp.symbols(\"epsilon\")\n",
    "sp_pred = h.subs(a/k, a/k + eps)\n",
    "syp.Eq(syp.diff(sp, a), sp_pred.rhs)"
   ]
  },
  {
   "cell_type": "markdown",
   "metadata": {},
   "source": [
    "Thus, \n",
    "\n",
    "$ \\frac{\\partial{s_p(a)}}{\\partial a} = \\frac{1}{k}$"
   ]
  },
  {
   "cell_type": "markdown",
   "metadata": {},
   "source": [
    "And the same goes for the visual observation\n",
    "\n",
    "$ \\frac{\\partial{s_v(a)}}{\\partial a} = \\frac{1}{k}$."
   ]
  }
 ],
 "metadata": {
  "kernelspec": {
   "display_name": "Python 3",
   "language": "python",
   "name": "python3"
  },
  "language_info": {
   "codemirror_mode": {
    "name": "ipython",
    "version": 3
   },
   "file_extension": ".py",
   "mimetype": "text/x-python",
   "name": "python",
   "nbconvert_exporter": "python",
   "pygments_lexer": "ipython3",
   "version": "3.6.10"
  }
 },
 "nbformat": 4,
 "nbformat_minor": 4
}
