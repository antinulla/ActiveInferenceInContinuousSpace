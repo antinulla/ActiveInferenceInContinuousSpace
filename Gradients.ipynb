{
 "cells": [
  {
   "cell_type": "code",
   "execution_count": 1,
   "metadata": {},
   "outputs": [],
   "source": [
    "import numpy as np\n",
    "import re\n",
    "import matplotlib.pyplot as plt\n",
    "import sympy as syp\n",
    "from sympy import Q\n",
    "from sympy.assumptions.refine import refine_sign\n",
    "from IPython.display import HTML \n",
    "\n",
    "def pprint(expr):\n",
    "    latex = syp.latex(expr)\n",
    "    latex = re.sub(r\"\\\\operatorname\", \"\", latex)\n",
    "    display(HTML(r\"${}$\".format(latex)))"
   ]
  },
  {
   "cell_type": "markdown",
   "metadata": {},
   "source": [
    "# Deriving gradients for active inference in Continuous Time\n",
    "\n",
    "Case with:\n",
    "* one latent variable (the current belief about the angle position) \n",
    "* two observation dimensions (proprioceptive and visual)\n",
    "\n",
    "\n",
    "### Names\n",
    "\n",
    "\n",
    "* $\\boldsymbol{\\mu}$ - central value of the internal latent variable (belief about the generative process latent variable)   \n",
    "* $\\boldsymbol{\\mu}$' - increment of $\\mu$ \n",
    "* $\\boldsymbol{\\rho}$ - desired state of the generative process latent variable \n",
    "* $\\mathbf{a}$ - action done by the agent \n",
    "* $\\mathbf{s_{p}(a)}$ - proprioceptive observation (**as a function of the action**) \n",
    "* $\\mathbf{s_{v}(a)}$ - visual observation (**as a function of the action**)   \n",
    "* $\\mathbf{g(\\mu)}$ - Forward model that predicts the visual observations based on the latent variable. (In this case the proprioceptive observation is in the same domain as the latent variable, thus thre is no need of a forward model for it)\n",
    "* $\\mathbf{f(\\mu, \\rho)}$ - Model of the dynamics of the generative controlling the response to the agent's action. The model's dynamics is biased so that it has $\\rho$ as an attractor, so that the agent's belief leads to a real movement towards $\\rho$ "
   ]
  },
  {
   "cell_type": "code",
   "execution_count": 2,
   "metadata": {},
   "outputs": [],
   "source": [
    "x, C,a, mu, mu1, rho = syp.symbols(r\"x C a \\mu \\mu' \\rho\")\n",
    "sigma_sp, sigma_sv, sigma_mu = syp.symbols(r'\\Sigma_{s_p} \\Sigma_{s_v} \\Sigma_{mu}')\n",
    "\n",
    "g = syp.Function(\"g\")(mu)\n",
    "f = syp.Function(\"f\")(mu, rho)\n",
    "sp = syp.Function(r\"s_p\")(a)\n",
    "sv = syp.Function(r\"s_v\")(a)\n",
    "\n",
    "def normal(x, m, s): \n",
    "    return (1/(s*syp.sqrt(2*syp.pi)))*syp.exp(-((x - m)**2)/(2*s**2))"
   ]
  },
  {
   "cell_type": "markdown",
   "metadata": {},
   "source": [
    "### Variational Laplace Encoded Free Energy"
   ]
  },
  {
   "cell_type": "code",
   "execution_count": 3,
   "metadata": {},
   "outputs": [],
   "source": [
    "p_sp_mu = normal(sp, mu, sigma_sp)                                          \n",
    "p_sv_mu = normal(sv, g, sigma_sv)\n",
    "p_mu1_mu_rho = normal(mu1, f, sigma_mu)\n",
    "\n",
    "\n",
    "F = -syp.log(p_sp_mu*p_sv_mu*p_mu1_mu_rho) + C"
   ]
  },
  {
   "cell_type": "markdown",
   "metadata": {},
   "source": [
    "---\n",
    "---\n",
    "$F = -log(P(s_p |\\mu)P(s_v | g(\\mu))P(\\mu'| \\mu, \\rho)) + C$"
   ]
  },
  {
   "cell_type": "code",
   "execution_count": 4,
   "metadata": {},
   "outputs": [
    {
     "data": {
      "text/html": [
       "$C - \\log{\\left(\\frac{\\sqrt{2} e^{- \\frac{\\left(\\mu' - f{\\left(\\mu,\\rho \\right)}\\right)^{2}}{2 \\Sigma_{mu}^{2}}} e^{- \\frac{\\left(- \\mu + {s_{p}}{\\left(a \\right)}\\right)^{2}}{2 \\Sigma_{s_p}^{2}}} e^{- \\frac{\\left(- g{\\left(\\mu \\right)} + {s_{v}}{\\left(a \\right)}\\right)^{2}}{2 \\Sigma_{s_v}^{2}}}}{4 \\pi^{\\frac{3}{2}} \\Sigma_{mu} \\Sigma_{s_p} \\Sigma_{s_v}} \\right)}$"
      ],
      "text/plain": [
       "<IPython.core.display.HTML object>"
      ]
     },
     "metadata": {},
     "output_type": "display_data"
    }
   ],
   "source": [
    "pprint(F)"
   ]
  },
  {
   "cell_type": "markdown",
   "metadata": {},
   "source": [
    "### Gradients"
   ]
  },
  {
   "cell_type": "code",
   "execution_count": 5,
   "metadata": {},
   "outputs": [
    {
     "data": {
      "text/html": [
       "$- \\frac{d}{d \\mu} F = - \\frac{\\left(g{\\left(\\mu \\right)} - {s_{v}}{\\left(a \\right)}\\right) \\frac{d}{d \\mu} g{\\left(\\mu \\right)}}{\\Sigma_{s_v}^{2}} - \\frac{\\mu - {s_{p}}{\\left(a \\right)}}{\\Sigma_{s_p}^{2}} - \\frac{\\left(- \\mu' + f{\\left(\\mu,\\rho \\right)}\\right) \\frac{\\partial}{\\partial \\mu} f{\\left(\\mu,\\rho \\right)}}{\\Sigma_{mu}^{2}}$"
      ],
      "text/plain": [
       "<IPython.core.display.HTML object>"
      ]
     },
     "metadata": {},
     "output_type": "display_data"
    }
   ],
   "source": [
    "dmu = syp.diff(F, mu)\n",
    "dmu = syp.simplify(dmu)\n",
    "dmu = syp.collect(dmu, sigma_mu)\n",
    "dmu = syp.collect(dmu,syp.diff(f, mu))\n",
    "dmu = syp.collect(dmu, sigma_sv)\n",
    "dmu = syp.collect(dmu, sigma_sp)\n",
    "dmu = syp.collect(dmu,syp.diff(g, mu))\n",
    "pprint(syp.Eq(-syp.Derivative(\"F\", mu), -dmu))"
   ]
  },
  {
   "cell_type": "code",
   "execution_count": 6,
   "metadata": {},
   "outputs": [
    {
     "data": {
      "text/html": [
       "$- \\frac{d}{d \\mu'} F = - \\frac{\\mu' - f{\\left(\\mu,\\rho \\right)}}{\\Sigma_{mu}^{2}}$"
      ],
      "text/plain": [
       "<IPython.core.display.HTML object>"
      ]
     },
     "metadata": {},
     "output_type": "display_data"
    }
   ],
   "source": [
    "dmu1 = syp.diff(F, mu1)\n",
    "dmu1 = syp.simplify(dmu1)\n",
    "-syp.simplify(dmu1)\n",
    "pprint(syp.Eq(-syp.Derivative(\"F\", mu1),-syp.simplify(dmu1)))"
   ]
  },
  {
   "cell_type": "code",
   "execution_count": 7,
   "metadata": {},
   "outputs": [
    {
     "data": {
      "text/html": [
       "$- \\frac{d}{d a} F = - \\frac{\\left(- g{\\left(\\mu \\right)} + {s_{v}}{\\left(a \\right)}\\right) \\frac{d}{d a} {s_{v}}{\\left(a \\right)}}{\\Sigma_{s_v}^{2}} - \\frac{\\left(- \\mu + {s_{p}}{\\left(a \\right)}\\right) \\frac{d}{d a} {s_{p}}{\\left(a \\right)}}{\\Sigma_{s_p}^{2}}$"
      ],
      "text/plain": [
       "<IPython.core.display.HTML object>"
      ]
     },
     "metadata": {},
     "output_type": "display_data"
    }
   ],
   "source": [
    "da = syp.simplify(syp.diff(F, a))\n",
    "da = syp.collect(da, sigma_sp)\n",
    "da = syp.collect(da, syp.diff(sp, a))\n",
    "da = syp.collect(da, sigma_sv)\n",
    "da = syp.collect(da, syp.diff(sv, a))\n",
    "pprint(syp.Eq(-syp.Derivative(\"F\", a),-da))"
   ]
  },
  {
   "cell_type": "markdown",
   "metadata": {},
   "source": [
    "### World model dynamics\n",
    "\n",
    "The dynamics are those of an harmonic oscillator:"
   ]
  },
  {
   "cell_type": "code",
   "execution_count": 8,
   "metadata": {},
   "outputs": [
    {
     "data": {
      "text/html": [
       "$- a + k f{\\left(t \\right)} + \\phi \\frac{d}{d t} f{\\left(t \\right)} + \\frac{d^{2}}{d t^{2}} f{\\left(t \\right)} = 0$"
      ],
      "text/plain": [
       "<IPython.core.display.HTML object>"
      ]
     },
     "metadata": {},
     "output_type": "display_data"
    }
   ],
   "source": [
    "from sympy.physics.mechanics import dynamicsymbols, init_vprinting\n",
    "init_vprinting()\n",
    "\n",
    "a, k, phi, z, t, muc = syp.symbols(\"a k phi z t mu\")\n",
    "f  = syp.Function(\"f\")(t)\n",
    "\n",
    "fmu = f.diff(t,t) + k*f + phi*f.diff(t) - a\n",
    "pprint(syp.Eq(fmu, 0))\n"
   ]
  },
  {
   "cell_type": "markdown",
   "metadata": {},
   "source": [
    "whose solution is an equation of type:"
   ]
  },
  {
   "cell_type": "code",
   "execution_count": 9,
   "metadata": {},
   "outputs": [
    {
     "data": {
      "text/html": [
       "$f{\\left(t \\right)} = C_{1} e^{\\frac{t \\left(- \\phi - \\sqrt{- 4 k + \\phi^{2}}\\right)}{2}} + C_{2} e^{\\frac{t \\left(- \\phi + \\sqrt{- 4 k + \\phi^{2}}\\right)}{2}} + \\frac{a}{k}$"
      ],
      "text/plain": [
       "<IPython.core.display.HTML object>"
      ]
     },
     "metadata": {},
     "output_type": "display_data"
    }
   ],
   "source": [
    "h = syp.dsolve(fmu, f)\n",
    "pprint(h)"
   ]
  },
  {
   "cell_type": "markdown",
   "metadata": {},
   "source": [
    "In our case $f(t, a)$ indicates the proposed value of $\\mu$ given an\n",
    "action ($a$).\n",
    "\n",
    "The prediction about $s_p(a, t)$ is then:\n",
    "\n",
    "$s_p(a, t) = f + \\epsilon$\n",
    "\n",
    "with $\\epsilon \\in \\mathcal{N}(0, \\Sigma_{s_p})$\n",
    "\n",
    "That is:"
   ]
  },
  {
   "cell_type": "code",
   "execution_count": 10,
   "metadata": {},
   "outputs": [
    {
     "data": {
      "text/html": [
       "${s_{p}}{\\left(a \\right)} = C_{1} e^{\\frac{t \\left(- \\phi - \\sqrt{- 4 k + \\phi^{2}}\\right)}{2}} + C_{2} e^{\\frac{t \\left(- \\phi + \\sqrt{- 4 k + \\phi^{2}}\\right)}{2}} + \\frac{a}{k} + \\epsilon$"
      ],
      "text/plain": [
       "<IPython.core.display.HTML object>"
      ]
     },
     "metadata": {},
     "output_type": "display_data"
    }
   ],
   "source": [
    "eps = syp.symbols(\"epsilon\")\n",
    "sp_pred = h.subs(a/k, a/k + eps)\n",
    "pprint(syp.Eq(sp, sp_pred.rhs))"
   ]
  },
  {
   "cell_type": "markdown",
   "metadata": {},
   "source": [
    "and its derivative w.r.t. $a$ is:"
   ]
  },
  {
   "cell_type": "code",
   "execution_count": 11,
   "metadata": {},
   "outputs": [
    {
     "data": {
      "text/html": [
       "$\\frac{d}{d a} {s_{p}}{\\left(a \\right)} = \\frac{1}{k}$"
      ],
      "text/plain": [
       "<IPython.core.display.HTML object>"
      ]
     },
     "metadata": {},
     "output_type": "display_data"
    }
   ],
   "source": [
    "pprint(syp.Eq(syp.diff(sp, a), syp.diff(sp_pred.rhs,a)))"
   ]
  },
  {
   "cell_type": "markdown",
   "metadata": {},
   "source": [
    "And the same goes for the visual observation"
   ]
  },
  {
   "cell_type": "markdown",
   "metadata": {},
   "source": [
    " "
   ]
  },
  {
   "cell_type": "code",
   "execution_count": 12,
   "metadata": {},
   "outputs": [
    {
     "data": {
      "text/html": [
       "$\\frac{d}{d a} {s_{v}}{\\left(a \\right)} = \\frac{1}{k}$"
      ],
      "text/plain": [
       "<IPython.core.display.HTML object>"
      ]
     },
     "metadata": {},
     "output_type": "display_data"
    }
   ],
   "source": [
    "pprint(syp.Eq(syp.diff(sv, a), syp.diff(sp_pred.rhs,a)))"
   ]
  }
 ],
 "metadata": {
  "kernelspec": {
   "display_name": "Python 3",
   "language": "python",
   "name": "python3"
  },
  "language_info": {
   "codemirror_mode": {
    "name": "ipython",
    "version": 3
   },
   "file_extension": ".py",
   "mimetype": "text/x-python",
   "name": "python",
   "nbconvert_exporter": "python",
   "pygments_lexer": "ipython3",
   "version": "3.6.9"
  }
 },
 "nbformat": 4,
 "nbformat_minor": 4
}
