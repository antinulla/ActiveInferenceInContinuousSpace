{
 "cells": [
  {
   "cell_type": "code",
   "execution_count": 5,
   "metadata": {
    "nteract": {
     "transient": {
      "deleting": false
     }
    }
   },
   "outputs": [],
   "source": [
    "import numpy as np\n",
    "from env import Env\n",
    "from model import Model\n",
    "from plotter import Plotter\n",
    "from funcs import g\n",
    "from mkvideo import vidManager\n"
   ]
  },
  {
   "cell_type": "markdown",
   "metadata": {
    "nteract": {
     "transient": {
      "deleting": false
     }
    }
   },
   "source": [
    "### Constants"
   ]
  },
  {
   "cell_type": "code",
   "execution_count": 6,
   "metadata": {
    "nteract": {
     "transient": {
      "deleting": false
     }
    }
   },
   "outputs": [],
   "source": [
    "\n",
    "real_mu = 0*np.pi\n",
    "model_mu = 0*np.pi\n",
    "model_rho = -0.35*np.pi\n",
    "stime = 20000\n",
    "\n",
    "rng = np.random.RandomState()\n"
   ]
  },
  {
   "cell_type": "markdown",
   "metadata": {
    "nteract": {
     "transient": {
      "deleting": false
     }
    }
   },
   "source": [
    " ### Simulation\n",
    "\n",
    "We simulate three cases.\n",
    "\n",
    "1. The precision of the gprocess and that of the gmodel are the save_frame\n",
    "2. The precision of the gmodel is a little bit higher of the model's None\n",
    "3. The precision of the gmodel is higher of the model's None\n"
   ]
  },
  {
   "cell_type": "code",
   "execution_count": 7,
   "metadata": {
    "nteract": {
     "transient": {
      "deleting": false
     }
    }
   },
   "outputs": [],
   "source": [
    "%%capture\n",
    "from IPython.display import display\n",
    "\n",
    "gprocess_sigmas = 0.2, 0.2, 0.2\n",
    "gmodel_sigmas = 0.1, 0.11, 0.12\n",
    "\n",
    "title = \"gp\\_sigma=%6.4f gm\\_sigma=%6.4f\"\n",
    "n_sim = -1\n",
    "for gprocess_sigma, gmodel_sigma in zip(gprocess_sigmas, gmodel_sigmas):\n",
    "\n",
    "    n_sim +=1\n",
    "\n",
    "    plotter = Plotter(\n",
    "        time_window=stime,\n",
    "        title=title % (gprocess_sigma, gmodel_sigma))\n",
    "\n",
    "    vidMaker = vidManager(plotter.figure, name=\"sim_%d\"%n_sim,\n",
    "                          dirname=\"sim\", duration=80)\n",
    "\n",
    "    # init the generative model (agent) and the generative process\n",
    "    # (environment)\n",
    "    gprocess = Env(rng)\n",
    "    gmodel = Model(rng, mu=model_mu, rho=model_rho)\n",
    "\n",
    "    gprocess.set_sigma(gprocess_sigma)\n",
    "    gmodel.set_sigma(gmodel_sigma)\n",
    "\n",
    "    state = gprocess.reset(mu=real_mu)\n",
    "    for t in range(stime):\n",
    "\n",
    "        # Update model via gradient descent and get action\n",
    "        action = gmodel.update(state)\n",
    "\n",
    "        # Generated fake sensory state from model\n",
    "        gstate = gmodel.gstate\n",
    "\n",
    "        # do action\n",
    "        state = gprocess.step(action)\n",
    "\n",
    "        # update plot every n steps\n",
    "        plotter.append_mu(gprocess.mu, gmodel.mu)\n",
    "        if t % 1000 == 0 or t == stime-1:\n",
    "            plotter.sensed_arm.update(state[0], state[1:])\n",
    "            plotter.real_arm.update(gprocess.istate[0], gprocess.istate[1:])\n",
    "            plotter.generated_arm.update(gstate[0], gstate[1:])\n",
    "            plotter.target_arm.update(gmodel.rho, g(gmodel.rho))\n",
    "            plotter.update()\n",
    "            vidMaker.save_frame()\n",
    "    vidMaker.mk_video()"
   ]
  },
  {
   "cell_type": "code",
   "execution_count": 14,
   "metadata": {
    "nteract": {
     "transient": {
      "deleting": false
     }
    }
   },
   "outputs": [
    {
     "data": {
      "text/plain": [
       "'sim/sim_0.gif:'"
      ]
     },
     "metadata": {},
     "output_type": "display_data"
    },
    {
     "data": {
      "text/html": [
       "<img src=\"sim/sim_0.gif\">"
      ],
      "text/plain": [
       "<IPython.core.display.HTML object>"
      ]
     },
     "metadata": {},
     "output_type": "display_data"
    },
    {
     "data": {
      "text/plain": [
       "'sim/sim_1.gif:'"
      ]
     },
     "metadata": {},
     "output_type": "display_data"
    },
    {
     "data": {
      "text/html": [
       "<img src=\"sim/sim_1.gif\">"
      ],
      "text/plain": [
       "<IPython.core.display.HTML object>"
      ]
     },
     "metadata": {},
     "output_type": "display_data"
    },
    {
     "data": {
      "text/plain": [
       "'sim/sim_2.gif:'"
      ]
     },
     "metadata": {},
     "output_type": "display_data"
    },
    {
     "data": {
      "text/html": [
       "<img src=\"sim/sim_2.gif\">"
      ],
      "text/plain": [
       "<IPython.core.display.HTML object>"
      ]
     },
     "metadata": {},
     "output_type": "display_data"
    }
   ],
   "source": [
    "from IPython.display import HTML, display\n",
    "def display_gif(fn):\n",
    "    display(fn + \":\")\n",
    "    display(HTML('<img src=\"{}\">'.format(fn)))\n",
    "\n",
    "import glob\n",
    "\n",
    "files = sorted(glob.glob(\"sim/sim_*gif\"))\n",
    "for file in files:\n",
    "    display_gif(file)"
   ]
  }
 ],
 "metadata": {
  "kernelspec": {
   "display_name": "Python 3",
   "language": "python",
   "name": "python3"
  },
  "language_info": {
   "codemirror_mode": {
    "name": "ipython",
    "version": 3
   },
   "file_extension": ".py",
   "mimetype": "text/x-python",
   "name": "python",
   "nbconvert_exporter": "python",
   "pygments_lexer": "ipython3",
   "version": "3.6.9"
  }
 },
 "nbformat": 4,
 "nbformat_minor": 4
}
